{
 "cells": [
  {
   "cell_type": "code",
   "execution_count": 1,
   "metadata": {},
   "outputs": [],
   "source": [
    "# step 1: simulate a 2 body gravitational problem (earth, sun) with Runga Kutta"
   ]
  },
  {
   "cell_type": "code",
   "execution_count": 1,
   "metadata": {},
   "outputs": [],
   "source": [
    "# import libraries\n",
    "import math\n",
    "import matplotlib.pyplot as plt\n",
    "from mpl_toolkits import mplot3d\n",
    "import numpy as np\n",
    "import pandas as pd\n",
    "\n",
    "import plotly.graph_objects as go\n",
    "\n",
    "pd.set_option('display.max_rows', 10)\n",
    "pd.set_option('display.max_columns', None)\n",
    "pd.set_option('display.width', 1000)\n",
    "pd.set_option('display.colheader_justify', 'center')\n",
    "pd.set_option('display.precision', 3)"
   ]
  },
  {
   "cell_type": "code",
   "execution_count": 2,
   "metadata": {},
   "outputs": [],
   "source": [
    "# perform runga-kutta method for a problem with 3 spacial dimensions (x and y, and z) \n",
    "# any function can be passed as input for the forces acting on the system.\n",
    "def runga_kutta_3d(position, velocity, timestep, Fx, Fy, Fz, args_x, args_y, args_z):\n",
    "    # position = (x_n, y_n, z_n): the x, y and z position at time n\n",
    "    # velocity = (Vx_n, Vy_n, Vz_n): the velocity vector components for x, y and z at time n\n",
    "    # timestep: delta(t), interval of time between 2 approximations\n",
    "    # F_x: the derivative function for x component of velocity\n",
    "    # F_y: the derivation function for y component of velocity\n",
    "    # F_z: the derivation function for z component of velocity\n",
    "    # args_x: arguments to be passed to F_x (in addition to Vx, Vy, Vz, x, y, z)\n",
    "    # args_y: arguments to be passed to F_y (in addition to Vx, Vy, Vz, x, y, z)\n",
    "    # args_z: arguments to be passed to F_z (in addition to Vx, Vy, Vz, x, y, z)\n",
    "    \n",
    "    x_values = []\n",
    "    y_values = []\n",
    "    z_values = []\n",
    "    \n",
    "    Vx_values = []\n",
    "    Vy_values = []\n",
    "    Vz_values = []\n",
    "    \n",
    "    Fx_values = []\n",
    "    Fy_values = []\n",
    "    Fz_values = []\n",
    "    \n",
    "    # step 1\n",
    "    x_values.append(position[0])\n",
    "    y_values.append(position[1])\n",
    "    z_values.append(position[2])\n",
    "    \n",
    "    Vx_values.append(velocity[0])\n",
    "    Vy_values.append(velocity[1])\n",
    "    Vz_values.append(velocity[2])\n",
    "    \n",
    "    Fx_values.append(Fx(args_x, Vx_values[0], Vy_values[0], Vz_values[0], x_values[0], y_values[0], z_values[0]))\n",
    "    Fy_values.append(Fy(args_y, Vx_values[0], Vy_values[0], Vz_values[0], x_values[0], y_values[0], z_values[0]))\n",
    "    Fz_values.append(Fz(args_z, Vx_values[0], Vy_values[0], Vz_values[0], x_values[0], y_values[0], z_values[0]))\n",
    "    \n",
    "    # step 2\n",
    "    x_values.append(x_values[0] + Vx_values[0] * timestep/2)\n",
    "    y_values.append(y_values[0] + Vy_values[0] * timestep/2)\n",
    "    z_values.append(z_values[0] + Vz_values[0] * timestep/2)\n",
    "    \n",
    "    Vx_values.append(Vx_values[0] + Fx_values[0] * timestep/2)\n",
    "    Vy_values.append(Vy_values[0] + Fy_values[0] * timestep/2)\n",
    "    Vz_values.append(Vz_values[0] + Fz_values[0] * timestep/2)\n",
    "    \n",
    "    Fx_values.append(Fx(args_x, Vx_values[1], Vy_values[1], Vz_values[1], x_values[1], y_values[1], z_values[1]))\n",
    "    Fy_values.append(Fy(args_y, Vx_values[1], Vy_values[1], Vz_values[1], x_values[1], y_values[1], z_values[1]))\n",
    "    Fz_values.append(Fz(args_z, Vx_values[1], Vy_values[1], Vz_values[1], x_values[1], y_values[1], z_values[1]))\n",
    "    \n",
    "    # step 3\n",
    "    x_values.append(x_values[0] + Vx_values[1] * timestep/2)\n",
    "    y_values.append(y_values[0] + Vy_values[1] * timestep/2)\n",
    "    z_values.append(z_values[0] + Vz_values[1] * timestep/2)\n",
    "    \n",
    "    Vx_values.append(Vx_values[0] + Fx_values[1] * timestep/2)\n",
    "    Vy_values.append(Vy_values[0] + Fy_values[1] * timestep/2)\n",
    "    Vz_values.append(Vz_values[0] + Fz_values[1] * timestep/2)\n",
    "    \n",
    "    Fx_values.append(Fx(args_x, Vx_values[2], Vy_values[2], Vz_values[2], x_values[2], y_values[2], z_values[2]))\n",
    "    Fy_values.append(Fy(args_y, Vx_values[2], Vy_values[2], Vz_values[2], x_values[2], y_values[2], z_values[2]))\n",
    "    Fz_values.append(Fz(args_z, Vx_values[2], Vy_values[2], Vz_values[2], x_values[2], y_values[2], z_values[2]))\n",
    "    \n",
    "    # step 4\n",
    "    x_values.append(x_values[0] + Vx_values[2] * timestep)\n",
    "    y_values.append(y_values[0] + Vy_values[2] * timestep)\n",
    "    z_values.append(z_values[0] + Vz_values[2] * timestep)\n",
    "    \n",
    "    Vx_values.append(Vx_values[0] + Fx_values[2] * timestep)\n",
    "    Vy_values.append(Vy_values[0] + Fy_values[2] * timestep)\n",
    "    Vz_values.append(Vz_values[0] + Fz_values[2] * timestep)\n",
    "    \n",
    "    Fx_values.append(Fx(args_x, Vx_values[3], Vy_values[3], Vz_values[3], x_values[3], y_values[3], z_values[3]))\n",
    "    Fy_values.append(Fy(args_y, Vx_values[3], Vy_values[3], Vz_values[3], x_values[3], y_values[3], z_values[3]))\n",
    "    Fz_values.append(Fz(args_z, Vx_values[3], Vy_values[3], Vz_values[3], x_values[3], y_values[3], z_values[3]))\n",
    "    \n",
    "    # step 5\n",
    "    x_final = x_values[0] + ((Vx_values[0] + 2*Vx_values[1] + 2*Vx_values[2] + Vx_values[3])*timestep)/6\n",
    "    y_final = y_values[0] + ((Vy_values[0] + 2*Vy_values[1] + 2*Vy_values[2] + Vy_values[3])*timestep)/6\n",
    "    z_final = z_values[0] + ((Vz_values[0] + 2*Vz_values[1] + 2*Vz_values[2] + Vz_values[3])*timestep)/6\n",
    "    \n",
    "    Vx_final = Vx_values[0] + ((Fx_values[0] +2*Fx_values[1] +2*Fx_values[2] + Fx_values[3])*timestep)/6\n",
    "    Vy_final = Vy_values[0] + ((Fy_values[0] +2*Fy_values[1] +2*Fy_values[2] + Fy_values[3])*timestep)/6\n",
    "    Vz_final = Vz_values[0] + ((Fz_values[0] +2*Fz_values[1] +2*Fz_values[2] + Fz_values[3])*timestep)/6\n",
    "    \n",
    "    return (x_final, y_final, z_final), (Vx_final, Vy_final, Vz_final)\n",
    "\n",
    "def gravitational_force(args, Vx, Vy, Vz, x, y, z):\n",
    "    n = args[0] # position of body in array of all bodies\n",
    "    m = args[1] # mass array\n",
    "    component = args[2] # \"x\", \"y\", or \"z\"\n",
    "    x_all = args[3] # last x position of all bodies (array)\n",
    "    y_all = args[4] # last x position of all bodies (array)\n",
    "    z_all = args[5] # last x position of all bodies (array)\n",
    "    G_or_const = args[6]\n",
    "    \n",
    "    F = 0\n",
    "    \n",
    "    # it s normal that it won't be equal at some point\n",
    "#     if x != x_all[n] or y != y_all[n] or z != z_all[n]:\n",
    "#         print(\"FALSE\")\n",
    "    \n",
    "    for body in range(len(x_all)):\n",
    "        if body != n:\n",
    "            # claculate distance between 2 bodies\n",
    "            r =  math.sqrt((x_all[body] - x)**2 + (y_all[body] - y)**2 + (z_all[body] - z)**2)\n",
    "            # print(\"r:\", r)\n",
    "            if component == \"x\":\n",
    "                F -= G_or_const * m[body] * ((x - x_all[body])/r**3)\n",
    "            elif component == \"y\":\n",
    "                F -= G_or_const * m[body] * ((y - y_all[body])/r**3)\n",
    "            elif component == \"z\":\n",
    "                F -= G_or_const * m[body] * ((z - z_all[body])/r**3)      \n",
    "    return F"
   ]
  },
  {
   "cell_type": "code",
   "execution_count": 3,
   "metadata": {},
   "outputs": [
    {
     "name": "stdout",
     "output_type": "stream",
     "text": [
      "-2.3591168185387722e-20\n"
     ]
    }
   ],
   "source": [
    "# universal gravitation constant\n",
    "G = 6.67259e-20  # (km**3/kg/s**2)\n",
    "\n",
    "# test gravitational_force() function\n",
    "args = (1, [1, 0.0001], \"x\", [0,1], [0, 1], [0, 0], G)\n",
    "F = gravitational_force(args, 0, 0, 0, 1, 1, 0)\n",
    "print(F)"
   ]
  },
  {
   "cell_type": "markdown",
   "metadata": {},
   "source": [
    "## Tryout 1: with initial conditions from tutorial online"
   ]
  },
  {
   "cell_type": "code",
   "execution_count": 5,
   "metadata": {},
   "outputs": [],
   "source": [
    "# tryout 1: works\n",
    "input_file = \"bodies_test.csv\"\n",
    "n_timesteps = 5000 # number of timesteps\n",
    "timestep = 0.2\n",
    "output_trajectories = \"blender/trajectories_test.csv\""
   ]
  },
  {
   "cell_type": "code",
   "execution_count": 6,
   "metadata": {},
   "outputs": [
    {
     "name": "stdout",
     "output_type": "stream",
     "text": [
      "['body1', 'body2']\n"
     ]
    },
    {
     "data": {
      "text/html": [
       "<div>\n",
       "<style scoped>\n",
       "    .dataframe tbody tr th:only-of-type {\n",
       "        vertical-align: middle;\n",
       "    }\n",
       "\n",
       "    .dataframe tbody tr th {\n",
       "        vertical-align: top;\n",
       "    }\n",
       "\n",
       "    .dataframe thead th {\n",
       "        text-align: right;\n",
       "    }\n",
       "</style>\n",
       "<table border=\"1\" class=\"dataframe\">\n",
       "  <thead>\n",
       "    <tr style=\"text-align: center;\">\n",
       "      <th></th>\n",
       "      <th>x</th>\n",
       "      <th>y</th>\n",
       "      <th>z</th>\n",
       "      <th>Vx</th>\n",
       "      <th>Vy</th>\n",
       "      <th>Vz</th>\n",
       "      <th>mass</th>\n",
       "    </tr>\n",
       "    <tr>\n",
       "      <th>body</th>\n",
       "      <th></th>\n",
       "      <th></th>\n",
       "      <th></th>\n",
       "      <th></th>\n",
       "      <th></th>\n",
       "      <th></th>\n",
       "      <th></th>\n",
       "    </tr>\n",
       "  </thead>\n",
       "  <tbody>\n",
       "    <tr>\n",
       "      <th>body1</th>\n",
       "      <td>0</td>\n",
       "      <td>0</td>\n",
       "      <td>0</td>\n",
       "      <td>10</td>\n",
       "      <td>20</td>\n",
       "      <td>30</td>\n",
       "      <td>1.000e+26</td>\n",
       "    </tr>\n",
       "    <tr>\n",
       "      <th>body2</th>\n",
       "      <td>3000</td>\n",
       "      <td>0</td>\n",
       "      <td>0</td>\n",
       "      <td>0</td>\n",
       "      <td>40</td>\n",
       "      <td>0</td>\n",
       "      <td>1.000e+26</td>\n",
       "    </tr>\n",
       "  </tbody>\n",
       "</table>\n",
       "</div>"
      ],
      "text/plain": [
       "         x   y  z  Vx  Vy  Vz    mass   \n",
       "body                                    \n",
       "body1     0  0  0  10  20  30  1.000e+26\n",
       "body2  3000  0  0   0  40   0  1.000e+26"
      ]
     },
     "metadata": {},
     "output_type": "display_data"
    }
   ],
   "source": [
    "# open input file\n",
    "df = pd.read_csv(input_file)\n",
    "bodies = list(df['body'])\n",
    "print(bodies)\n",
    "df = df.set_index('body')\n",
    "display(df)\n",
    "\n",
    "# print(df.dtypes)"
   ]
  },
  {
   "cell_type": "code",
   "execution_count": 7,
   "metadata": {},
   "outputs": [
    {
     "name": "stdout",
     "output_type": "stream",
     "text": [
      "2\n",
      "[1e+26, 1e+26]\n"
     ]
    }
   ],
   "source": [
    "# part 1, no normalization\n",
    "# constants\n",
    "n_bodies = len(df)\n",
    "print(n_bodies)\n",
    "\n",
    "# set array of masses and divide by maximum mass (mass of sum)\n",
    "m = list(df[\"mass\"])\n",
    "print(m)"
   ]
  },
  {
   "cell_type": "code",
   "execution_count": 8,
   "metadata": {},
   "outputs": [
    {
     "name": "stdout",
     "output_type": "stream",
     "text": [
      "x: [[0.0], [3000.0]]\n",
      "y: [[0.0], [0.0]]\n",
      "z: [[0.0], [0.0]]\n",
      "Vx: [[10.0], [0.0]]\n",
      "Vy: [[20.0], [40.0]]\n",
      "Vz: [[30.0], [0.0]]\n"
     ]
    }
   ],
   "source": [
    "# initial conditions: store in arrays\n",
    "# NASA JBL 01/01/2023 for eath and sun (vector table)\n",
    "# observer: solar system barycenter \n",
    "\n",
    "x = []\n",
    "y = []\n",
    "z = []\n",
    "\n",
    "Vx = []\n",
    "Vy = []\n",
    "Vz = []\n",
    "\n",
    "for n in range(n_bodies):\n",
    "    row = df.loc[bodies[n]]\n",
    "    # print(row)\n",
    "    x.append([row.x])\n",
    "    y.append([row.y])\n",
    "    z.append([row.z])\n",
    "    \n",
    "    Vx.append([row.Vx])\n",
    "    Vy.append([row.Vy])\n",
    "    Vz.append([row.Vz])\n",
    "    \n",
    "print(\"x:\", x)\n",
    "print(\"y:\", y)\n",
    "print(\"z:\", z)\n",
    "print(\"Vx:\", Vx)\n",
    "print(\"Vy:\", Vy)\n",
    "print(\"Vz:\", Vz)"
   ]
  },
  {
   "cell_type": "code",
   "execution_count": 9,
   "metadata": {},
   "outputs": [],
   "source": [
    "for t in range(n_timesteps):\n",
    "    \n",
    "    # set array with latest position for all bodies\n",
    "    x_last_all = []\n",
    "    y_last_all = []\n",
    "    z_last_all = []\n",
    "    for n in range(n_bodies):\n",
    "        x_last_all.append(x[n][-1])\n",
    "        y_last_all.append(y[n][-1])\n",
    "        z_last_all.append(z[n][-1])\n",
    "    # print(x_last_all)\n",
    "    # print(y_last_all)\n",
    "    # print(z_last_all)\n",
    "    \n",
    "    for n in range(n_bodies):\n",
    "        # for a specific body: p_components are its position, c_components are its velocity components\n",
    "        p_components = (x_last_all[n], y_last_all[n], z_last_all[n])\n",
    "        v_components = (Vx[n][-1], Vy[n][-1], Vz[n][-1])\n",
    "        \n",
    "        args_x = (n, m, \"x\", x_last_all, y_last_all, z_last_all, G)\n",
    "        args_y = (n, m, \"y\", x_last_all, y_last_all, z_last_all, G)\n",
    "        args_z = (n, m, \"z\", x_last_all, y_last_all, z_last_all, G)\n",
    "        \n",
    "        p_components, v_components = runga_kutta_3d(p_components, v_components, timestep, gravitational_force, gravitational_force, gravitational_force, args_x, args_y, args_z)\n",
    "        \n",
    "        # add new value in arrays\n",
    "        x[n].append(p_components[0])\n",
    "        y[n].append(p_components[1])\n",
    "        z[n].append(p_components[2])\n",
    "        \n",
    "        Vx[n].append(v_components[0])\n",
    "        Vy[n].append(v_components[1])\n",
    "        Vz[n].append(v_components[2])"
   ]
  },
  {
   "cell_type": "code",
   "execution_count": 10,
   "metadata": {},
   "outputs": [
    {
     "data": {
      "image/png": "[encoded data removed]",
      "text/plain": [
       "<Figure size 600x400 with 1 Axes>"
      ]
     },
     "metadata": {
      "needs_background": "light"
     },
     "output_type": "display_data"
    }
   ],
   "source": [
    "ax = plt.figure(dpi = 100).add_subplot(projection='3d')\n",
    "\n",
    "ax.plot(x[0], y[0], z[0], label='sun')\n",
    "ax.plot(x[1], y[1], z[1], label='earth')\n",
    "ax.legend()\n",
    "plt.show()"
   ]
  },
  {
   "cell_type": "code",
   "execution_count": 11,
   "metadata": {},
   "outputs": [
    {
     "data": {
      "text/html": [
       "<div>\n",
       "<style scoped>\n",
       "    .dataframe tbody tr th:only-of-type {\n",
       "        vertical-align: middle;\n",
       "    }\n",
       "\n",
       "    .dataframe tbody tr th {\n",
       "        vertical-align: top;\n",
       "    }\n",
       "\n",
       "    .dataframe thead th {\n",
       "        text-align: right;\n",
       "    }\n",
       "</style>\n",
       "<table border=\"1\" class=\"dataframe\">\n",
       "  <thead>\n",
       "    <tr style=\"text-align: center;\">\n",
       "      <th></th>\n",
       "      <th>body1</th>\n",
       "      <th>body2</th>\n",
       "    </tr>\n",
       "  </thead>\n",
       "  <tbody>\n",
       "    <tr>\n",
       "      <th>0</th>\n",
       "      <td>0.0_0.0_0.0</td>\n",
       "      <td>3000.0_0.0_0.0</td>\n",
       "    </tr>\n",
       "    <tr>\n",
       "      <th>1</th>\n",
       "      <td>2.0148345742942735_3.9999934031828865_5.999990...</td>\n",
       "      <td>2999.985172024153_7.999986819561596_0.0</td>\n",
       "    </tr>\n",
       "    <tr>\n",
       "      <th>2</th>\n",
       "      <td>4.059364933718668_7.999986819894442_11.9999207...</td>\n",
       "      <td>2999.940668100026_15.99991426032829_2.97161060...</td>\n",
       "    </tr>\n",
       "    <tr>\n",
       "      <th>3</th>\n",
       "      <td>6.133631595628202_12.000019952841761_17.999732...</td>\n",
       "      <td>2999.866447810384_23.99974253795074_0.00014870...</td>\n",
       "    </tr>\n",
       "    <tr>\n",
       "      <th>4</th>\n",
       "      <td>8.237675823502444_16.00013267040749_23.9993647...</td>\n",
       "      <td>2999.7624699928033_31.999431699943724_0.000416...</td>\n",
       "    </tr>\n",
       "    <tr>\n",
       "      <th>...</th>\n",
       "      <td>...</td>\n",
       "      <td>...</td>\n",
       "    </tr>\n",
       "    <tr>\n",
       "      <th>4996</th>\n",
       "      <td>3950.3768299626986_28649.67391149551_12030.592...</td>\n",
       "      <td>9484.68101855817_26951.269206385463_14577.0967...</td>\n",
       "    </tr>\n",
       "    <tr>\n",
       "      <th>4997</th>\n",
       "      <td>3947.370823330574_28654.98067544612_12033.0489...</td>\n",
       "      <td>9489.831339713164_26956.57105255044_14579.5596...</td>\n",
       "    </tr>\n",
       "    <tr>\n",
       "      <th>4998</th>\n",
       "      <td>3944.370647794898_28660.285648915135_12035.508...</td>\n",
       "      <td>9494.975830038082_26961.87468318526_14582.0198...</td>\n",
       "    </tr>\n",
       "    <tr>\n",
       "      <th>4999</th>\n",
       "      <td>3941.376292230313_28665.588837940737_12037.969...</td>\n",
       "      <td>9500.114500660091_26967.180092271818_14584.477...</td>\n",
       "    </tr>\n",
       "    <tr>\n",
       "      <th>5000</th>\n",
       "      <td>3938.387745559903_28670.89024852859_12040.4343...</td>\n",
       "      <td>9505.247362657901_26972.487273824427_14586.932...</td>\n",
       "    </tr>\n",
       "  </tbody>\n",
       "</table>\n",
       "<p>5001 rows × 2 columns</p>\n",
       "</div>"
      ],
      "text/plain": [
       "                           body1                                              body2                       \n",
       "0                                           0.0_0.0_0.0                                     3000.0_0.0_0.0\n",
       "1     2.0148345742942735_3.9999934031828865_5.999990...            2999.985172024153_7.999986819561596_0.0\n",
       "2     4.059364933718668_7.999986819894442_11.9999207...  2999.940668100026_15.99991426032829_2.97161060...\n",
       "3     6.133631595628202_12.000019952841761_17.999732...  2999.866447810384_23.99974253795074_0.00014870...\n",
       "4     8.237675823502444_16.00013267040749_23.9993647...  2999.7624699928033_31.999431699943724_0.000416...\n",
       "...                                                 ...                                                ...\n",
       "4996  3950.3768299626986_28649.67391149551_12030.592...  9484.68101855817_26951.269206385463_14577.0967...\n",
       "4997  3947.370823330574_28654.98067544612_12033.0489...  9489.831339713164_26956.57105255044_14579.5596...\n",
       "4998  3944.370647794898_28660.285648915135_12035.508...  9494.975830038082_26961.87468318526_14582.0198...\n",
       "4999  3941.376292230313_28665.588837940737_12037.969...  9500.114500660091_26967.180092271818_14584.477...\n",
       "5000  3938.387745559903_28670.89024852859_12040.4343...  9505.247362657901_26972.487273824427_14586.932...\n",
       "\n",
       "[5001 rows x 2 columns]"
      ]
     },
     "metadata": {},
     "output_type": "display_data"
    }
   ],
   "source": [
    "df_result = pd.DataFrame()\n",
    "for n in range(len(bodies)):\n",
    "    df_result[\"x_%s\"%(bodies[n])] =  x[n]\n",
    "    df_result[\"y_%s\"%(bodies[n])] =  y[n]\n",
    "    df_result[\"z_%s\"%(bodies[n])] =  z[n]\n",
    "for body in bodies:\n",
    "    df_result[body] = df_result[\"x_%s\"%(body)].astype(str) + \"_\" + df_result[\"y_%s\"%(body)].astype(str) + \"_\" + df_result[\"z_%s\"%(body)].astype(str)\n",
    "    df_result = df_result.drop(labels = [\"x_%s\"%(body), \"y_%s\"%(body), \"z_%s\"%(body)], axis = 1)\n",
    "display(df_result) \n",
    "\n",
    "df_result.to_csv(output_trajectories, index = False)   "
   ]
  },
  {
   "cell_type": "code",
   "execution_count": 12,
   "metadata": {},
   "outputs": [],
   "source": [
    "# 3d visualization: tryout4.blend"
   ]
  },
  {
   "cell_type": "markdown",
   "metadata": {},
   "source": [
    "## Tryout 2: 1st system with sun and earth"
   ]
  },
  {
   "cell_type": "code",
   "execution_count": 12,
   "metadata": {},
   "outputs": [],
   "source": [
    "# tryout 2: \n",
    "input_file = \"bodies.csv\"\n",
    "n_timesteps = 400 # number of timesteps\n",
    "timestep = 86400\n",
    "output_trajectories = \"blender/trajectories_step1.csv\"\n",
    "output_body_properties = \"blender/body_properties.csv\""
   ]
  },
  {
   "cell_type": "code",
   "execution_count": 13,
   "metadata": {},
   "outputs": [
    {
     "name": "stdout",
     "output_type": "stream",
     "text": [
      "['sun', 'earth']\n"
     ]
    },
    {
     "data": {
      "text/html": [
       "<div>\n",
       "<style scoped>\n",
       "    .dataframe tbody tr th:only-of-type {\n",
       "        vertical-align: middle;\n",
       "    }\n",
       "\n",
       "    .dataframe tbody tr th {\n",
       "        vertical-align: top;\n",
       "    }\n",
       "\n",
       "    .dataframe thead th {\n",
       "        text-align: right;\n",
       "    }\n",
       "</style>\n",
       "<table border=\"1\" class=\"dataframe\">\n",
       "  <thead>\n",
       "    <tr style=\"text-align: center;\">\n",
       "      <th></th>\n",
       "      <th>x</th>\n",
       "      <th>y</th>\n",
       "      <th>z</th>\n",
       "      <th>Vx</th>\n",
       "      <th>Vy</th>\n",
       "      <th>Vz</th>\n",
       "      <th>mass</th>\n",
       "    </tr>\n",
       "    <tr>\n",
       "      <th>body</th>\n",
       "      <th></th>\n",
       "      <th></th>\n",
       "      <th></th>\n",
       "      <th></th>\n",
       "      <th></th>\n",
       "      <th></th>\n",
       "      <th></th>\n",
       "    </tr>\n",
       "  </thead>\n",
       "  <tbody>\n",
       "    <tr>\n",
       "      <th>sun</th>\n",
       "      <td>-1.355e+06</td>\n",
       "      <td>1.421e+04</td>\n",
       "      <td>31439.404</td>\n",
       "      <td>0.002</td>\n",
       "      <td>-0.016</td>\n",
       "      <td>8.962e-05</td>\n",
       "      <td>1.989e+30</td>\n",
       "    </tr>\n",
       "    <tr>\n",
       "      <th>earth</th>\n",
       "      <td>-2.682e+07</td>\n",
       "      <td>1.449e+08</td>\n",
       "      <td>24130.011</td>\n",
       "      <td>-29.815</td>\n",
       "      <td>-5.296</td>\n",
       "      <td>-5.494e-04</td>\n",
       "      <td>5.972e+24</td>\n",
       "    </tr>\n",
       "  </tbody>\n",
       "</table>\n",
       "</div>"
      ],
      "text/plain": [
       "           x          y          z        Vx     Vy       Vz        mass   \n",
       "body                                                                       \n",
       "sun   -1.355e+06  1.421e+04  31439.404   0.002 -0.016  8.962e-05  1.989e+30\n",
       "earth -2.682e+07  1.449e+08  24130.011 -29.815 -5.296 -5.494e-04  5.972e+24"
      ]
     },
     "metadata": {},
     "output_type": "display_data"
    }
   ],
   "source": [
    "# open input file\n",
    "df = pd.read_csv(input_file)\n",
    "bodies = list(df['body'])\n",
    "print(bodies)\n",
    "df = df.set_index('body')\n",
    "display(df)\n",
    "\n",
    "# print(df.dtypes)"
   ]
  },
  {
   "cell_type": "code",
   "execution_count": 14,
   "metadata": {},
   "outputs": [
    {
     "name": "stdout",
     "output_type": "stream",
     "text": [
      "2\n",
      "39.482844360900664\n",
      "[1.0, 3.002513826043238e-06]\n"
     ]
    }
   ],
   "source": [
    "# part 2, non-dimentionalize code\n",
    "# constants\n",
    "n_bodies = len(df)\n",
    "print(n_bodies)\n",
    "\n",
    "# universal gravitation constant\n",
    "G = 6.67259e-20  # (km**3/kg/s**2)\n",
    "mass_sun = 1.989e30 # kg\n",
    "AU = 1.496e8 #km\n",
    "year = 3.156e7 #s\n",
    "norm_const = (G * mass_sun * (year**2))/(AU**3)\n",
    "print(norm_const)\n",
    "\n",
    "# set array of masses and normalize\n",
    "m = list(df[\"mass\"])\n",
    "m = [i/mass_sun for i in m]\n",
    "print(m)"
   ]
  },
  {
   "cell_type": "code",
   "execution_count": 15,
   "metadata": {},
   "outputs": [
    {
     "name": "stdout",
     "output_type": "stream",
     "text": [
      "x: [[-0.009055016159966617], [-0.1793085625550183]]\n",
      "y: [[9.495630345800982e-05], [0.9685666471737507]]\n",
      "z: [[0.00021015644618283588], [0.00016129686599527607]]\n",
      "Vx: [[0.00034519862016138184], [-6.289811699774153]]\n",
      "Vy: [[-0.0032874007978930778], [-1.1172406489022908]]\n",
      "Vz: [[1.890567695852678e-05], [-0.00011589652108919248]]\n"
     ]
    }
   ],
   "source": [
    "# initial conditions: store in arrays\n",
    "# NASA JBL 01/01/2023 for eath and sun (vector table)\n",
    "# observer: solar system barycenter \n",
    "\n",
    "x = []\n",
    "y = []\n",
    "z = []\n",
    "\n",
    "Vx = []\n",
    "Vy = []\n",
    "Vz = []\n",
    "\n",
    "# NORMALIZE POSITIONS AND VELOCITIES TOO\n",
    "for n in range(n_bodies):\n",
    "    row = df.loc[bodies[n]]\n",
    "    # print(row)\n",
    "    x.append([row.x/AU])\n",
    "    y.append([row.y/AU])\n",
    "    z.append([row.z/AU])\n",
    "    \n",
    "    Vx.append([row.Vx*(year/AU)])\n",
    "    Vy.append([row.Vy*(year/AU)])\n",
    "    Vz.append([row.Vz*(year/AU)])\n",
    "    \n",
    "print(\"x:\", x)\n",
    "print(\"y:\", y)\n",
    "print(\"z:\", z)\n",
    "print(\"Vx:\", Vx)\n",
    "print(\"Vy:\", Vy)\n",
    "print(\"Vz:\", Vz)"
   ]
  },
  {
   "cell_type": "code",
   "execution_count": 16,
   "metadata": {},
   "outputs": [
    {
     "name": "stdout",
     "output_type": "stream",
     "text": [
      "0.0027376425855513307\n"
     ]
    }
   ],
   "source": [
    "n_timesteps = 365 # number of timesteps\n",
    "timestep = 86400/year\n",
    "print(timestep)"
   ]
  },
  {
   "cell_type": "code",
   "execution_count": 17,
   "metadata": {},
   "outputs": [],
   "source": [
    "for t in range(n_timesteps):\n",
    "    \n",
    "    # set array with latest position for all bodies\n",
    "    x_last_all = []\n",
    "    y_last_all = []\n",
    "    z_last_all = []\n",
    "    for n in range(n_bodies):\n",
    "        x_last_all.append(x[n][-1])\n",
    "        y_last_all.append(y[n][-1])\n",
    "        z_last_all.append(z[n][-1])\n",
    "    # print(x_last_all)\n",
    "    # print(y_last_all)\n",
    "    # print(z_last_all)\n",
    "    \n",
    "    for n in range(n_bodies):\n",
    "        # for a specific body: p_components are its position, c_components are its velocity components\n",
    "        p_components = (x_last_all[n], y_last_all[n], z_last_all[n])\n",
    "        v_components = (Vx[n][-1], Vy[n][-1], Vz[n][-1])\n",
    "        \n",
    "        args_x = (n, m, \"x\", x_last_all, y_last_all, z_last_all, norm_const)\n",
    "        args_y = (n, m, \"y\", x_last_all, y_last_all, z_last_all, norm_const)\n",
    "        args_z = (n, m, \"z\", x_last_all, y_last_all, z_last_all, norm_const)\n",
    "        \n",
    "        p_components, v_components = runga_kutta_3d(p_components, v_components, timestep, gravitational_force, gravitational_force, gravitational_force, args_x, args_y, args_z)\n",
    "        \n",
    "        # add new value in arrays\n",
    "        x[n].append(p_components[0])\n",
    "        y[n].append(p_components[1])\n",
    "        z[n].append(p_components[2])\n",
    "        \n",
    "        Vx[n].append(v_components[0])\n",
    "        Vy[n].append(v_components[1])\n",
    "        Vz[n].append(v_components[2])"
   ]
  },
  {
   "cell_type": "code",
   "execution_count": 18,
   "metadata": {},
   "outputs": [
    {
     "data": {
      "image/png": "[encoded data removed]",
      "text/plain": [
       "<Figure size 600x400 with 1 Axes>"
      ]
     },
     "metadata": {
      "needs_background": "light"
     },
     "output_type": "display_data"
    }
   ],
   "source": [
    "ax = plt.figure(dpi = 100).add_subplot(projection='3d')\n",
    "# ax.set_aspect('equal')\n",
    "ax.plot(x[0], y[0], z[0], label='sun')\n",
    "ax.plot(x[1], y[1], z[1], label='earth')\n",
    "ax.legend()\n",
    "plt.show()"
   ]
  },
  {
   "cell_type": "code",
   "execution_count": 19,
   "metadata": {},
   "outputs": [
    {
     "data": {
      "image/png": "[encoded data removed]",
      "text/plain": [
       "<Figure size 600x400 with 1 Axes>"
      ]
     },
     "metadata": {
      "needs_background": "light"
     },
     "output_type": "display_data"
    }
   ],
   "source": [
    "fig = plt.figure(dpi = 100)\n",
    "ax = plt.subplot()\n",
    "ax.set_aspect('equal')\n",
    "ax.plot(x[0], y[0], label='sun')\n",
    "ax.plot(x[1], y[1], label='earth')\n",
    "ax.legend()\n",
    "plt.show()"
   ]
  },
  {
   "cell_type": "code",
   "execution_count": 20,
   "metadata": {},
   "outputs": [
    {
     "data": {
      "text/html": [
       "<div>\n",
       "<style scoped>\n",
       "    .dataframe tbody tr th:only-of-type {\n",
       "        vertical-align: middle;\n",
       "    }\n",
       "\n",
       "    .dataframe tbody tr th {\n",
       "        vertical-align: top;\n",
       "    }\n",
       "\n",
       "    .dataframe thead th {\n",
       "        text-align: right;\n",
       "    }\n",
       "</style>\n",
       "<table border=\"1\" class=\"dataframe\">\n",
       "  <thead>\n",
       "    <tr style=\"text-align: center;\">\n",
       "      <th></th>\n",
       "      <th>sun</th>\n",
       "      <th>earth</th>\n",
       "    </tr>\n",
       "  </thead>\n",
       "  <tbody>\n",
       "    <tr>\n",
       "      <th>0</th>\n",
       "      <td>-0.009055016159966617_9.495630345800982e-05_0....</td>\n",
       "      <td>-0.1793085625550183_0.9685666471737507_0.00016...</td>\n",
       "    </tr>\n",
       "    <tr>\n",
       "      <th>1</th>\n",
       "      <td>-0.009054071209070192_8.595702753203883e-05_0....</td>\n",
       "      <td>-0.19650043205937415_0.9653574935891776_0.0001...</td>\n",
       "    </tr>\n",
       "    <tr>\n",
       "      <th>2</th>\n",
       "      <td>-0.009053126425304493_7.695865512324072e-05_0....</td>\n",
       "      <td>-0.21363396109359747_0.9618479115082871_0.0001...</td>\n",
       "    </tr>\n",
       "    <tr>\n",
       "      <th>3</th>\n",
       "      <td>-0.009052181824717903_6.79611831476177e-05_0.0...</td>\n",
       "      <td>-0.23070381393624817_0.9580389771752597_0.0001...</td>\n",
       "    </tr>\n",
       "    <tr>\n",
       "      <th>4</th>\n",
       "      <td>-0.009051237423300421_5.8964608226922115e-05_0...</td>\n",
       "      <td>-0.24770467526478424_0.9539318646536092_0.0001...</td>\n",
       "    </tr>\n",
       "    <tr>\n",
       "      <th>...</th>\n",
       "      <td>...</td>\n",
       "      <td>...</td>\n",
       "    </tr>\n",
       "    <tr>\n",
       "      <th>361</th>\n",
       "      <td>-0.008732763551623314_-0.003157115674778246_0....</td>\n",
       "      <td>-0.10904173611341796_0.9751668827552249_0.0001...</td>\n",
       "    </tr>\n",
       "    <tr>\n",
       "      <th>362</th>\n",
       "      <td>-0.008731818089755605_-0.003166118627799507_0....</td>\n",
       "      <td>-0.12641462789050267_0.9731804305264898_0.0001...</td>\n",
       "    </tr>\n",
       "    <tr>\n",
       "      <th>363</th>\n",
       "      <td>-0.008730872729704981_-0.0031751206678603526_0...</td>\n",
       "      <td>-0.14375090456100806_0.9708902048683652_0.0001...</td>\n",
       "    </tr>\n",
       "    <tr>\n",
       "      <th>364</th>\n",
       "      <td>-0.008729927487697037_-0.0031841217968466558_0...</td>\n",
       "      <td>-0.16104516749431583_0.9682968835090275_0.0001...</td>\n",
       "    </tr>\n",
       "    <tr>\n",
       "      <th>365</th>\n",
       "      <td>-0.008728982379922283_-0.0031931220169419843_0...</td>\n",
       "      <td>-0.17829203071160324_0.965401243226724_0.00018...</td>\n",
       "    </tr>\n",
       "  </tbody>\n",
       "</table>\n",
       "<p>366 rows × 2 columns</p>\n",
       "</div>"
      ],
      "text/plain": [
       "                           sun                                               earth                       \n",
       "0    -0.009055016159966617_9.495630345800982e-05_0....  -0.1793085625550183_0.9685666471737507_0.00016...\n",
       "1    -0.009054071209070192_8.595702753203883e-05_0....  -0.19650043205937415_0.9653574935891776_0.0001...\n",
       "2    -0.009053126425304493_7.695865512324072e-05_0....  -0.21363396109359747_0.9618479115082871_0.0001...\n",
       "3    -0.009052181824717903_6.79611831476177e-05_0.0...  -0.23070381393624817_0.9580389771752597_0.0001...\n",
       "4    -0.009051237423300421_5.8964608226922115e-05_0...  -0.24770467526478424_0.9539318646536092_0.0001...\n",
       "..                                                 ...                                                ...\n",
       "361  -0.008732763551623314_-0.003157115674778246_0....  -0.10904173611341796_0.9751668827552249_0.0001...\n",
       "362  -0.008731818089755605_-0.003166118627799507_0....  -0.12641462789050267_0.9731804305264898_0.0001...\n",
       "363  -0.008730872729704981_-0.0031751206678603526_0...  -0.14375090456100806_0.9708902048683652_0.0001...\n",
       "364  -0.008729927487697037_-0.0031841217968466558_0...  -0.16104516749431583_0.9682968835090275_0.0001...\n",
       "365  -0.008728982379922283_-0.0031931220169419843_0...  -0.17829203071160324_0.965401243226724_0.00018...\n",
       "\n",
       "[366 rows x 2 columns]"
      ]
     },
     "metadata": {},
     "output_type": "display_data"
    }
   ],
   "source": [
    "df_result = pd.DataFrame()\n",
    "for n in range(len(bodies)):\n",
    "    df_result[\"x_%s\"%(bodies[n])] =  x[n]\n",
    "    df_result[\"y_%s\"%(bodies[n])] =  y[n]\n",
    "    df_result[\"z_%s\"%(bodies[n])] =  z[n]\n",
    "for body in bodies:\n",
    "    df_result[body] = df_result[\"x_%s\"%(body)].astype(str) + \"_\" + df_result[\"y_%s\"%(body)].astype(str) + \"_\" + df_result[\"z_%s\"%(body)].astype(str)\n",
    "    df_result = df_result.drop(labels = [\"x_%s\"%(body), \"y_%s\"%(body), \"z_%s\"%(body)], axis = 1)\n",
    "display(df_result) \n",
    "\n",
    "df_result.to_csv(output_trajectories, index = False)   "
   ]
  },
  {
   "cell_type": "code",
   "execution_count": 21,
   "metadata": {},
   "outputs": [
    {
     "name": "stdout",
     "output_type": "stream",
     "text": [
      "0.0046504010695187165\n"
     ]
    },
    {
     "data": {
      "text/html": [
       "<div>\n",
       "<style scoped>\n",
       "    .dataframe tbody tr th:only-of-type {\n",
       "        vertical-align: middle;\n",
       "    }\n",
       "\n",
       "    .dataframe tbody tr th {\n",
       "        vertical-align: top;\n",
       "    }\n",
       "\n",
       "    .dataframe thead th {\n",
       "        text-align: right;\n",
       "    }\n",
       "</style>\n",
       "<table border=\"1\" class=\"dataframe\">\n",
       "  <thead>\n",
       "    <tr style=\"text-align: center;\">\n",
       "      <th></th>\n",
       "      <th>sun</th>\n",
       "      <th>earth</th>\n",
       "    </tr>\n",
       "  </thead>\n",
       "  <tbody>\n",
       "    <tr>\n",
       "      <th>0</th>\n",
       "      <td>Yellow-255-255-0-1</td>\n",
       "      <td>Blue-0-0-255-1</td>\n",
       "    </tr>\n",
       "    <tr>\n",
       "      <th>1</th>\n",
       "      <td>0.1</td>\n",
       "      <td>0.01</td>\n",
       "    </tr>\n",
       "  </tbody>\n",
       "</table>\n",
       "</div>"
      ],
      "text/plain": [
       "          sun              earth     \n",
       "0  Yellow-255-255-0-1  Blue-0-0-255-1\n",
       "1                 0.1            0.01"
      ]
     },
     "metadata": {},
     "output_type": "display_data"
    }
   ],
   "source": [
    "# create body_properties file\n",
    "r_sun = 695700 # km\n",
    "r_earth = 6378 # km\n",
    "\n",
    "sun = [\"Yellow-255-255-0-1\", float(r_sun/AU)]\n",
    "earth = [\"Blue-0-0-255-1\", float(r_earth/AU)]\n",
    "\n",
    "sun = [\"Yellow-255-255-0-1\", 0.1]\n",
    "earth = [\"Blue-0-0-255-1\", 0.01]\n",
    "\n",
    "\n",
    "print(r_sun/AU)\n",
    "df_properties = pd.DataFrame()\n",
    "df_properties[\"sun\"] = sun\n",
    "df_properties[\"earth\"] = earth\n",
    "display(df_properties)\n",
    "\n",
    "df_properties.to_csv(output_body_properties, index = False)"
   ]
  },
  {
   "cell_type": "markdown",
   "metadata": {},
   "source": [
    "## try to set up initial condition assuming circular velocity"
   ]
  },
  {
   "cell_type": "code",
   "execution_count": 35,
   "metadata": {},
   "outputs": [
    {
     "name": "stdout",
     "output_type": "stream",
     "text": [
      "x: [[5.383764381993814e-07], [-0.1793085625550183]]\n",
      "y: [[0], [0]]\n",
      "z: [[0], [0]]\n",
      "Vx: [[0], [0]]\n",
      "Vy: [[0.025712574167411864], [-14.838945830877263]]\n",
      "Vz: [[0], [0]]\n"
     ]
    }
   ],
   "source": [
    "x = [[], [df.loc['earth'][0]/AU]]  \n",
    "y = [[0], [0]]\n",
    "z = [[0], [0]]\n",
    "Vx = [[0], [0]]\n",
    "Vy = [[], []]\n",
    "Vz = [[0], [0]]\n",
    "\n",
    "# sun position: x_sun = - (mass_earth * x_earth) / mass_sun\n",
    "star_pos = -1 * (m[1] * x[1][0]) / (m[0])\n",
    "x[0].append(star_pos)\n",
    "\n",
    "# velocity of planet\n",
    "v_planet = -1 * math.sqrt(norm_const * (m[0]/(x[0][0] - x[1][0])))\n",
    "Vy[1].append(v_planet)\n",
    "\n",
    "# velocity of star\n",
    "v_star = math.sqrt(norm_const * (m[1]/(x[0][0] - x[1][0])))\n",
    "Vy[0].append(v_star)\n",
    "\n",
    "print(\"x:\", x)\n",
    "print(\"y:\", y)\n",
    "print(\"z:\", z)\n",
    "print(\"Vx:\", Vx)\n",
    "print(\"Vy:\", Vy)\n",
    "print(\"Vz:\", Vz)"
   ]
  },
  {
   "cell_type": "code",
   "execution_count": 36,
   "metadata": {},
   "outputs": [
    {
     "name": "stdout",
     "output_type": "stream",
     "text": [
      "0.0027376425855513307\n"
     ]
    }
   ],
   "source": [
    "n_timesteps = 100 # number of timesteps\n",
    "timestep = 86400/year\n",
    "print(timestep)"
   ]
  },
  {
   "cell_type": "code",
   "execution_count": 37,
   "metadata": {},
   "outputs": [],
   "source": [
    "for t in range(n_timesteps):\n",
    "    \n",
    "    # set array with latest position for all bodies\n",
    "    x_last_all = []\n",
    "    y_last_all = []\n",
    "    z_last_all = []\n",
    "    for n in range(n_bodies):\n",
    "        x_last_all.append(x[n][-1])\n",
    "        y_last_all.append(y[n][-1])\n",
    "        z_last_all.append(z[n][-1])\n",
    "    # print(x_last_all)\n",
    "    # print(y_last_all)\n",
    "    # print(z_last_all)\n",
    "    \n",
    "    for n in range(n_bodies):\n",
    "        # for a specific body: p_components are its position, c_components are its velocity components\n",
    "        p_components = (x_last_all[n], y_last_all[n], z_last_all[n])\n",
    "        v_components = (Vx[n][-1], Vy[n][-1], Vz[n][-1])\n",
    "        \n",
    "        args_x = (n, m, \"x\", x_last_all, y_last_all, z_last_all, norm_const)\n",
    "        args_y = (n, m, \"y\", x_last_all, y_last_all, z_last_all, norm_const)\n",
    "        args_z = (n, m, \"z\", x_last_all, y_last_all, z_last_all, norm_const)\n",
    "        \n",
    "        p_components, v_components = runga_kutta_3d(p_components, v_components, timestep, gravitational_force, gravitational_force, gravitational_force, args_x, args_y, args_z)\n",
    "        \n",
    "        # add new value in arrays\n",
    "        x[n].append(p_components[0])\n",
    "        y[n].append(p_components[1])\n",
    "        z[n].append(p_components[2])\n",
    "        \n",
    "        Vx[n].append(v_components[0])\n",
    "        Vy[n].append(v_components[1])\n",
    "        Vz[n].append(v_components[2])"
   ]
  },
  {
   "cell_type": "code",
   "execution_count": 41,
   "metadata": {},
   "outputs": [
    {
     "data": {
      "image/png": "[encoded data removed]",
      "text/plain": [
       "<Figure size 600x400 with 1 Axes>"
      ]
     },
     "metadata": {
      "needs_background": "light"
     },
     "output_type": "display_data"
    }
   ],
   "source": [
    "ax = plt.figure(dpi = 100).add_subplot(projection='3d')\n",
    "# ax.set_aspect('equal')\n",
    "ax.plot(x[0], y[0], z[0], label='sun')\n",
    "ax.plot(x[1], y[1], z[1], label='earth')\n",
    "ax.legend()\n",
    "plt.show()"
   ]
  },
  {
   "cell_type": "code",
   "execution_count": null,
   "metadata": {},
   "outputs": [],
   "source": []
  }
 ],
 "metadata": {
  "kernelspec": {
   "display_name": "Python 3",
   "language": "python",
   "name": "python3"
  },
  "language_info": {
   "codemirror_mode": {
    "name": "ipython",
    "version": 3
   },
   "file_extension": ".py",
   "mimetype": "text/x-python",
   "name": "python",
   "nbconvert_exporter": "python",
   "pygments_lexer": "ipython3",
   "version": "3.8.3"
  }
 },
 "nbformat": 4,
 "nbformat_minor": 4
}
